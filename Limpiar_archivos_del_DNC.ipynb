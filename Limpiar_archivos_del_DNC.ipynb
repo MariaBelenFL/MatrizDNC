{
 "cells": [
  {
   "cell_type": "markdown",
   "id": "12b6c614-090a-4588-b82a-17796cb90275",
   "metadata": {},
   "source": [
    "# <b>Transformación de los archivos xlxs de la Matriz de requerimientos (DNC) a archivos csv\r\n",
    "</b>"
   ]
  },
  {
   "cell_type": "markdown",
   "id": "ce35be15-40d3-4207-ab44-8398e1176e5b",
   "metadata": {},
   "source": [
    "Esta libreta convierte archivos Excel del DNC (Detección de Necesidades de Capacitación) a archivos CSV. El objetivo es facilitar el análisis posterior, ya que los archivos originales tienen encabezados y estructuras poco amigables para el procesamiento automático.\n",
    "\n",
    "Pasos principales:\n",
    "1. Cargar archivos `.xlsx` de entrada.\n",
    "2. Limpiar encabezados o columnas innecesarias y guardar los archivos en formato `.csv`.\n",
    "\n",
    "Esto permite trabajar con los datos de manera más sencilla.\n"
   ]
  },
  {
   "cell_type": "markdown",
   "id": "3a52a602-8ad6-4a1f-8f54-fdbeb96b6a61",
   "metadata": {},
   "source": [
    "# Importacion de las librerias"
   ]
  },
  {
   "cell_type": "code",
   "execution_count": 1,
   "id": "8ba9eb19-1213-4fc2-9e10-6650a5d12ac7",
   "metadata": {},
   "outputs": [],
   "source": [
    "import pandas as pd\n",
    "import numpy as np\n",
    "import glob\n",
    "import os"
   ]
  },
  {
   "cell_type": "code",
   "execution_count": 610,
   "id": "be70b166-383d-480d-a426-366449411f85",
   "metadata": {},
   "outputs": [],
   "source": [
    "# Ruta de la carpeta donde están los archivos xlxs\n",
    "carpeta = r\"C:\\Users\\mflor\\Downloads\\Datos\"\n",
    "Destino=r\"C:\\Users\\mflor\\Downloads\\Archivoscsv\"\n",
    "# Obtener la lista de archivos csv en la carpeta\n",
    "archivos= glob.glob(os.path.join(carpeta,\"**\", \"*.xlxs\"), recursive=True)\n",
    "if not os.path.exists(Destino):\n",
    "    os.makedirs(Destino)\n"
   ]
  },
  {
   "cell_type": "markdown",
   "id": "a125694b-9a18-4678-bd96-d58f8481d885",
   "metadata": {},
   "source": [
    "## <b>Limpieza de los archivos </b>"
   ]
  },
  {
   "cell_type": "code",
   "execution_count": 620,
   "id": "a8bff876-1245-4c57-8aed-64f50cd14419",
   "metadata": {},
   "outputs": [],
   "source": [
    "# Leer el archivo Excel, saltando filas iniciales\n",
    "#df = pd.read_excel(r\"C:\\Users\\mflor\\Downloads\\MATRIZ DE COMPETENCIAS  DNC - Comercio Exteriorbelen.xlsx\", skiprows=6)\n",
    "archivos=[r\"C:\\Users\\mflor\\Downloads\\MATRIZ DE COMPETENCIAS  DNC - Comercio Exteriorbelen.xlsx\"]\n",
    "for archivo in archivos:\n",
    "    # Se lee el archivo quitando los encabezados que no tienen información relevante\n",
    "    df = pd.read_excel(archivo, skiprows=6, header=None)\n",
    "    # Eliminar la primera columna\n",
    "    df = df.iloc[:, 1:]\n",
    "    # Eliminar el primer, segundo y tercer renglón\n",
    "    df = df.drop(df.index[[0,3,4]])\n",
    "    # Reiniciar índice para que los encabezados estén alineados\n",
    "    df = df.reset_index(drop=True)\n",
    "    # Eliminar la columna 2 y 3\n",
    "    df = df.drop(df.columns[[1, 2]], axis=1)\n",
    "    # Reiniciar las columnas para que los encabezados estén alineados\n",
    "    df.columns = range(df.shape[1])\n",
    "    # Encontrar que columna contiene la palabra curso\n",
    "    curso_idx = df.iloc[0].astype(str).str.strip().str.lower().tolist().index('curso')\n",
    "    # Copia las celdas a la derecha de \"curso\"  y las pega en el renglon de abajo\n",
    "    df.iloc[1, curso_idx:] = df.iloc[0, curso_idx:]\n",
    "    # Reiniciar índice para que los encabezados estén alineados\n",
    "    df = df.reset_index(drop=True)\n",
    "    # Eliminar el primer renglon\n",
    "    df = df.drop(index=[df.index[0]])\n",
    "    # Reiniciar índice para que los encabezados estén alineados\n",
    "    df = df.reset_index(drop=True)\n",
    "     # Reiniciar índice para que los encabezados estén alineados\n",
    "    df.columns = range(df.shape[1])\n",
    "    primer_renglon = df.iloc[0]  # Toma el primer renglón\n",
    "    # Encuentra las columnas donde el valor no sea nulo ni vacío, esto lo hacemos para encontrar la nomina del trabajador\n",
    "    columnas_no_vacias = primer_renglon[primer_renglon.notna() & (primer_renglon.astype(str).str.strip() != '')].index.tolist()\n",
    "    #print(\"Columnas no vacías en el primer renglón:\")\n",
    "    #print(columnas_no_vacias)\n",
    "    # Luego, estas nominas se ponen en las dos columnas siguientes que le corresponden al trabajador\n",
    "    for columna in columnas_no_vacias:\n",
    "        if columna<curso_idx:\n",
    "            df.iloc[0,[columna+1,columna+2]]=df.iloc[0,columna]\n",
    "        else:\n",
    "            break\n",
    "    df.iloc[0,0]=\"Tema\"\n",
    "    # Se elimina las columnas cuyo encabezado es vacío\n",
    "    df = df.loc[:, ~df.iloc[0].isna()]\n",
    "    # Se eliminan renglones con información inecesaria\n",
    "    competencias_idx = df[0].astype(str).str.strip().str.lower().tolist().index('competencias conductuales')\n",
    "    df = df.iloc[:competencias_idx-1]\n",
    "    # Finalmente el  archivo limpio se guarda en la carpeta de destino como un archivo csv\n",
    "    nombre_csv = os.path.splitext(os.path.basename(archivo))[0] + \"1.csv\"\n",
    "    df.to_csv(os.path.join(Destino,nombre_csv), index=False, encoding='utf-8-sig',header=None)"
   ]
  },
  {
   "cell_type": "markdown",
   "id": "1168c704-70cd-4146-8e32-ec75e4f006c8",
   "metadata": {},
   "source": [
    "A continuación, se muestra el estado de los archivos antes y después del procesamiento."
   ]
  },
  {
   "cell_type": "markdown",
   "id": "f2e325c7-5a01-4ba4-9fc9-4a647c350aca",
   "metadata": {},
   "source": [
    "### Archivo original \n",
    "![Archivo Original](https://github.com/MariaBelenFL/MatrizDNC/blob/main/imagenes/DNC.png)"
   ]
  },
  {
   "cell_type": "markdown",
   "id": "6aeb11a7-0304-4d41-bd42-4f31fb95ef56",
   "metadata": {},
   "source": [
    "### Archivo después de limpiar y transformar en un archivo csv\n",
    "![Archivo Limpio](imagenes/DNC2.png)"
   ]
  },
  {
   "cell_type": "code",
   "execution_count": null,
   "id": "158fbd8d-8cd1-4336-b020-d80089695f74",
   "metadata": {},
   "outputs": [],
   "source": []
  }
 ],
 "metadata": {
  "kernelspec": {
   "display_name": "Python [conda env:base] *",
   "language": "python",
   "name": "conda-base-py"
  },
  "language_info": {
   "codemirror_mode": {
    "name": "ipython",
    "version": 3
   },
   "file_extension": ".py",
   "mimetype": "text/x-python",
   "name": "python",
   "nbconvert_exporter": "python",
   "pygments_lexer": "ipython3",
   "version": "3.11.7"
  }
 },
 "nbformat": 4,
 "nbformat_minor": 5
}
